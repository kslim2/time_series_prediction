{
 "cells": [
  {
   "cell_type": "code",
   "execution_count": 1,
   "metadata": {},
   "outputs": [
    {
     "name": "stdout",
     "output_type": "stream",
     "text": [
      "--2023-03-01 18:26:49--  https://storage.googleapis.com/tensorflow/tf-keras-datasets/jena_climate_2009_2016.csv.zip\n",
      "Resolving storage.googleapis.com (storage.googleapis.com)... 74.125.68.128, 74.125.24.128, 142.250.4.128, ...\n",
      "Connecting to storage.googleapis.com (storage.googleapis.com)|74.125.68.128|:443... connected.\n",
      "HTTP request sent, awaiting response... 200 OK\n",
      "Length: 13568290 (13M) [application/zip]\n",
      "Saving to: ‘jena_climate_2009_2016.csv.zip’\n",
      "\n",
      "jena_climate_2009_2 100%[===================>]  12.94M   698KB/s    in 15s     \n",
      "\n",
      "2023-03-01 18:27:10 (867 KB/s) - ‘jena_climate_2009_2016.csv.zip’ saved [13568290/13568290]\n",
      "\n"
     ]
    }
   ],
   "source": [
    "! wget https://storage.googleapis.com/tensorflow/tf-keras-datasets/jena_climate_2009_2016.csv.zip"
   ]
  },
  {
   "cell_type": "code",
   "execution_count": 2,
   "metadata": {},
   "outputs": [
    {
     "name": "stdout",
     "output_type": "stream",
     "text": [
      "Archive:  jena_climate_2009_2016.csv.zip\n",
      "  inflating: jena_climate_2009_2016.csv  \n"
     ]
    }
   ],
   "source": [
    "! unzip jena_climate_2009_2016.csv.zip"
   ]
  },
  {
   "cell_type": "code",
   "execution_count": 1,
   "metadata": {},
   "outputs": [
    {
     "data": {
      "text/html": [
       "<div>\n",
       "<style scoped>\n",
       "    .dataframe tbody tr th:only-of-type {\n",
       "        vertical-align: middle;\n",
       "    }\n",
       "\n",
       "    .dataframe tbody tr th {\n",
       "        vertical-align: top;\n",
       "    }\n",
       "\n",
       "    .dataframe thead th {\n",
       "        text-align: right;\n",
       "    }\n",
       "</style>\n",
       "<table border=\"1\" class=\"dataframe\">\n",
       "  <thead>\n",
       "    <tr style=\"text-align: right;\">\n",
       "      <th></th>\n",
       "      <th>Date Time</th>\n",
       "      <th>p (mbar)</th>\n",
       "      <th>T (degC)</th>\n",
       "      <th>Tpot (K)</th>\n",
       "      <th>Tdew (degC)</th>\n",
       "      <th>rh (%)</th>\n",
       "      <th>VPmax (mbar)</th>\n",
       "      <th>VPact (mbar)</th>\n",
       "      <th>VPdef (mbar)</th>\n",
       "      <th>sh (g/kg)</th>\n",
       "      <th>H2OC (mmol/mol)</th>\n",
       "      <th>rho (g/m**3)</th>\n",
       "      <th>wv (m/s)</th>\n",
       "      <th>max. wv (m/s)</th>\n",
       "      <th>wd (deg)</th>\n",
       "    </tr>\n",
       "  </thead>\n",
       "  <tbody>\n",
       "    <tr>\n",
       "      <th>0</th>\n",
       "      <td>01.01.2009 00:10:00</td>\n",
       "      <td>996.52</td>\n",
       "      <td>-8.02</td>\n",
       "      <td>265.40</td>\n",
       "      <td>-8.90</td>\n",
       "      <td>93.3</td>\n",
       "      <td>3.33</td>\n",
       "      <td>3.11</td>\n",
       "      <td>0.22</td>\n",
       "      <td>1.94</td>\n",
       "      <td>3.12</td>\n",
       "      <td>1307.75</td>\n",
       "      <td>1.03</td>\n",
       "      <td>1.75</td>\n",
       "      <td>152.3</td>\n",
       "    </tr>\n",
       "    <tr>\n",
       "      <th>1</th>\n",
       "      <td>01.01.2009 00:20:00</td>\n",
       "      <td>996.57</td>\n",
       "      <td>-8.41</td>\n",
       "      <td>265.01</td>\n",
       "      <td>-9.28</td>\n",
       "      <td>93.4</td>\n",
       "      <td>3.23</td>\n",
       "      <td>3.02</td>\n",
       "      <td>0.21</td>\n",
       "      <td>1.89</td>\n",
       "      <td>3.03</td>\n",
       "      <td>1309.80</td>\n",
       "      <td>0.72</td>\n",
       "      <td>1.50</td>\n",
       "      <td>136.1</td>\n",
       "    </tr>\n",
       "    <tr>\n",
       "      <th>2</th>\n",
       "      <td>01.01.2009 00:30:00</td>\n",
       "      <td>996.53</td>\n",
       "      <td>-8.51</td>\n",
       "      <td>264.91</td>\n",
       "      <td>-9.31</td>\n",
       "      <td>93.9</td>\n",
       "      <td>3.21</td>\n",
       "      <td>3.01</td>\n",
       "      <td>0.20</td>\n",
       "      <td>1.88</td>\n",
       "      <td>3.02</td>\n",
       "      <td>1310.24</td>\n",
       "      <td>0.19</td>\n",
       "      <td>0.63</td>\n",
       "      <td>171.6</td>\n",
       "    </tr>\n",
       "    <tr>\n",
       "      <th>3</th>\n",
       "      <td>01.01.2009 00:40:00</td>\n",
       "      <td>996.51</td>\n",
       "      <td>-8.31</td>\n",
       "      <td>265.12</td>\n",
       "      <td>-9.07</td>\n",
       "      <td>94.2</td>\n",
       "      <td>3.26</td>\n",
       "      <td>3.07</td>\n",
       "      <td>0.19</td>\n",
       "      <td>1.92</td>\n",
       "      <td>3.08</td>\n",
       "      <td>1309.19</td>\n",
       "      <td>0.34</td>\n",
       "      <td>0.50</td>\n",
       "      <td>198.0</td>\n",
       "    </tr>\n",
       "    <tr>\n",
       "      <th>4</th>\n",
       "      <td>01.01.2009 00:50:00</td>\n",
       "      <td>996.51</td>\n",
       "      <td>-8.27</td>\n",
       "      <td>265.15</td>\n",
       "      <td>-9.04</td>\n",
       "      <td>94.1</td>\n",
       "      <td>3.27</td>\n",
       "      <td>3.08</td>\n",
       "      <td>0.19</td>\n",
       "      <td>1.92</td>\n",
       "      <td>3.09</td>\n",
       "      <td>1309.00</td>\n",
       "      <td>0.32</td>\n",
       "      <td>0.63</td>\n",
       "      <td>214.3</td>\n",
       "    </tr>\n",
       "  </tbody>\n",
       "</table>\n",
       "</div>"
      ],
      "text/plain": [
       "             Date Time  p (mbar)  T (degC)  Tpot (K)  Tdew (degC)  rh (%)  \\\n",
       "0  01.01.2009 00:10:00    996.52     -8.02    265.40        -8.90    93.3   \n",
       "1  01.01.2009 00:20:00    996.57     -8.41    265.01        -9.28    93.4   \n",
       "2  01.01.2009 00:30:00    996.53     -8.51    264.91        -9.31    93.9   \n",
       "3  01.01.2009 00:40:00    996.51     -8.31    265.12        -9.07    94.2   \n",
       "4  01.01.2009 00:50:00    996.51     -8.27    265.15        -9.04    94.1   \n",
       "\n",
       "   VPmax (mbar)  VPact (mbar)  VPdef (mbar)  sh (g/kg)  H2OC (mmol/mol)  \\\n",
       "0          3.33          3.11          0.22       1.94             3.12   \n",
       "1          3.23          3.02          0.21       1.89             3.03   \n",
       "2          3.21          3.01          0.20       1.88             3.02   \n",
       "3          3.26          3.07          0.19       1.92             3.08   \n",
       "4          3.27          3.08          0.19       1.92             3.09   \n",
       "\n",
       "   rho (g/m**3)  wv (m/s)  max. wv (m/s)  wd (deg)  \n",
       "0       1307.75      1.03           1.75     152.3  \n",
       "1       1309.80      0.72           1.50     136.1  \n",
       "2       1310.24      0.19           0.63     171.6  \n",
       "3       1309.19      0.34           0.50     198.0  \n",
       "4       1309.00      0.32           0.63     214.3  "
      ]
     },
     "execution_count": 1,
     "metadata": {},
     "output_type": "execute_result"
    }
   ],
   "source": [
    "import pandas as pd \n",
    "\n",
    "\n",
    "df = pd.read_csv('jena_climate_2009_2016.csv')\n",
    "\n",
    "df.head()"
   ]
  },
  {
   "cell_type": "code",
   "execution_count": 4,
   "metadata": {},
   "outputs": [],
   "source": [
    "time = pd.to_datetime(df.pop('Date Time'), format='%d.%m.%Y %H:%M:%S')\n",
    "series = df['T (degC)'][5::6]\n",
    "series.index = time[5::6]"
   ]
  },
  {
   "cell_type": "code",
   "execution_count": 6,
   "metadata": {},
   "outputs": [],
   "source": [
    "import numpy as np \n",
    "\n",
    "# function for generating the lagged matrix\n",
    "def split_sequence(sequence, window_size):\n",
    "    X = []\n",
    "    y = []\n",
    "    # for all indexes\n",
    "    for i in range(len(sequence)):\n",
    "        end_idx = i + window_size \n",
    "        # exit condition\n",
    "        if end_idx > len(sequence) - 1:\n",
    "            break \n",
    "        # get X and Y values \n",
    "        seq_x, seq_y = sequence[i:end_idx], sequence[end_idx]\n",
    "        X.append(seq_x)\n",
    "        y.append(seq_y)\n",
    "    \n",
    "    return np.array(X), np.array(y)"
   ]
  },
  {
   "cell_type": "code",
   "execution_count": 7,
   "metadata": {},
   "outputs": [
    {
     "data": {
      "text/plain": [
       "Date Time\n",
       "2009-01-01 01:00:00   -8.05\n",
       "2009-01-01 02:00:00   -8.88\n",
       "2009-01-01 03:00:00   -8.81\n",
       "2009-01-01 04:00:00   -9.05\n",
       "2009-01-01 05:00:00   -9.63\n",
       "                       ... \n",
       "2016-03-11 16:00:00    2.93\n",
       "2016-03-11 17:00:00    2.29\n",
       "2016-03-11 18:00:00    2.48\n",
       "2016-03-11 19:00:00    2.77\n",
       "2016-03-11 20:00:00    2.80\n",
       "Name: T (degC), Length: 63082, dtype: float64"
      ]
     },
     "execution_count": 7,
     "metadata": {},
     "output_type": "execute_result"
    }
   ],
   "source": [
    "train = series[:-int(len(series) / 10)]\n",
    "\n",
    "train"
   ]
  },
  {
   "cell_type": "code",
   "execution_count": 8,
   "metadata": {},
   "outputs": [
    {
     "data": {
      "text/plain": [
       "Date Time\n",
       "2016-03-11 21:00:00    2.75\n",
       "2016-03-11 22:00:00    2.46\n",
       "2016-03-11 23:00:00    1.93\n",
       "2016-03-12 00:00:00    1.87\n",
       "2016-03-12 01:00:00    1.93\n",
       "                       ... \n",
       "2016-12-31 19:10:00   -0.98\n",
       "2016-12-31 20:10:00   -1.40\n",
       "2016-12-31 21:10:00   -2.75\n",
       "2016-12-31 22:10:00   -2.89\n",
       "2016-12-31 23:10:00   -3.93\n",
       "Name: T (degC), Length: 7009, dtype: float64"
      ]
     },
     "execution_count": 8,
     "metadata": {},
     "output_type": "execute_result"
    }
   ],
   "source": [
    "test = series[-int(len(series) / 10):]\n",
    "test"
   ]
  },
  {
   "cell_type": "code",
   "execution_count": 9,
   "metadata": {},
   "outputs": [],
   "source": [
    "X_train, y_train = split_sequence(train, window_size=24)"
   ]
  },
  {
   "cell_type": "code",
   "execution_count": 10,
   "metadata": {},
   "outputs": [
    {
     "data": {
      "text/plain": [
       "array([[-8.05, -8.88, -8.81, ..., -4.5 , -4.47, -4.54],\n",
       "       [-8.88, -8.81, -9.05, ..., -4.47, -4.54, -4.44],\n",
       "       [-8.81, -9.05, -9.63, ..., -4.54, -4.44, -4.29],\n",
       "       ...,\n",
       "       [ 3.4 ,  3.13,  3.27, ...,  2.98,  2.93,  2.29],\n",
       "       [ 3.13,  3.27,  3.13, ...,  2.93,  2.29,  2.48],\n",
       "       [ 3.27,  3.13,  3.2 , ...,  2.29,  2.48,  2.77]])"
      ]
     },
     "execution_count": 10,
     "metadata": {},
     "output_type": "execute_result"
    }
   ],
   "source": [
    "X_train"
   ]
  },
  {
   "cell_type": "code",
   "execution_count": 11,
   "metadata": {},
   "outputs": [
    {
     "data": {
      "text/plain": [
       "(63058, 24)"
      ]
     },
     "execution_count": 11,
     "metadata": {},
     "output_type": "execute_result"
    }
   ],
   "source": [
    "X_train.shape"
   ]
  },
  {
   "attachments": {},
   "cell_type": "markdown",
   "metadata": {},
   "source": [
    "# Modeling time series using regression\n",
    "\n",
    "regression algorithm try to find the line of best fit for a given dataset. the linear regression tries to minimize the value of the sum of the squares of the differences between the observed value and predicted value. OLS regression has several underlying assumptions called `Gauss-Markov assumptions`. Gauss-Markov assumptions for cross-sectional data include the following:\n",
    "\n",
    "1. the parameters (the value of the slope of the best fit line in a two variable regression line, for example) should be linear\n",
    "2. `X` and `Y` should be random variables.2\n",
    "3. no perfect colinearity between multiple independent variables.\n",
    "4. the covariance of the residual term and the independent variables should be 0, or in other words, the residual term is endogenous.\n",
    "5. homoscedasticity for the residual term, ie the variance in the residual term should not change with a change in the independent variable.\n",
    "6. no autocorrelation in the residual terms\n",
    "\n",
    "for time series data, we cannot satisfy the assumption that the independent variables are all random variables since different columns are coming from the same process. to compensate for that the assumpptions on autocorrelation, homoscedasticity and endogeneity are more strict "
   ]
  },
  {
   "cell_type": "code",
   "execution_count": 12,
   "metadata": {},
   "outputs": [
    {
     "data": {
      "text/html": [
       "<table class=\"simpletable\">\n",
       "<caption>OLS Regression Results</caption>\n",
       "<tr>\n",
       "  <th>Dep. Variable:</th>            <td>y</td>        <th>  R-squared:         </th> <td>   0.992</td> \n",
       "</tr>\n",
       "<tr>\n",
       "  <th>Model:</th>                   <td>OLS</td>       <th>  Adj. R-squared:    </th> <td>   0.992</td> \n",
       "</tr>\n",
       "<tr>\n",
       "  <th>Method:</th>             <td>Least Squares</td>  <th>  F-statistic:       </th> <td>3.376e+05</td>\n",
       "</tr>\n",
       "<tr>\n",
       "  <th>Date:</th>             <td>Thu, 02 Mar 2023</td> <th>  Prob (F-statistic):</th>  <td>  0.00</td>  \n",
       "</tr>\n",
       "<tr>\n",
       "  <th>Time:</th>                 <td>21:16:16</td>     <th>  Log-Likelihood:    </th> <td> -70605.</td> \n",
       "</tr>\n",
       "<tr>\n",
       "  <th>No. Observations:</th>      <td> 63058</td>      <th>  AIC:               </th> <td>1.413e+05</td>\n",
       "</tr>\n",
       "<tr>\n",
       "  <th>Df Residuals:</th>          <td> 63033</td>      <th>  BIC:               </th> <td>1.415e+05</td>\n",
       "</tr>\n",
       "<tr>\n",
       "  <th>Df Model:</th>              <td>    24</td>      <th>                     </th>     <td> </td>    \n",
       "</tr>\n",
       "<tr>\n",
       "  <th>Covariance Type:</th>      <td>nonrobust</td>    <th>                     </th>     <td> </td>    \n",
       "</tr>\n",
       "</table>\n",
       "<table class=\"simpletable\">\n",
       "<tr>\n",
       "    <td></td>       <th>coef</th>     <th>std err</th>      <th>t</th>      <th>P>|t|</th>  <th>[0.025</th>    <th>0.975]</th>  \n",
       "</tr>\n",
       "<tr>\n",
       "  <th>const</th> <td>    0.0317</td> <td>    0.005</td> <td>    6.986</td> <td> 0.000</td> <td>    0.023</td> <td>    0.041</td>\n",
       "</tr>\n",
       "<tr>\n",
       "  <th>x1</th>    <td>   -0.1288</td> <td>    0.004</td> <td>  -32.606</td> <td> 0.000</td> <td>   -0.137</td> <td>   -0.121</td>\n",
       "</tr>\n",
       "<tr>\n",
       "  <th>x2</th>    <td>    0.0669</td> <td>    0.007</td> <td>   10.283</td> <td> 0.000</td> <td>    0.054</td> <td>    0.080</td>\n",
       "</tr>\n",
       "<tr>\n",
       "  <th>x3</th>    <td>    0.0571</td> <td>    0.007</td> <td>    8.707</td> <td> 0.000</td> <td>    0.044</td> <td>    0.070</td>\n",
       "</tr>\n",
       "<tr>\n",
       "  <th>x4</th>    <td>    0.0381</td> <td>    0.007</td> <td>    5.793</td> <td> 0.000</td> <td>    0.025</td> <td>    0.051</td>\n",
       "</tr>\n",
       "<tr>\n",
       "  <th>x5</th>    <td>    0.0081</td> <td>    0.007</td> <td>    1.239</td> <td> 0.216</td> <td>   -0.005</td> <td>    0.021</td>\n",
       "</tr>\n",
       "<tr>\n",
       "  <th>x6</th>    <td>    0.0125</td> <td>    0.007</td> <td>    1.905</td> <td> 0.057</td> <td>   -0.000</td> <td>    0.025</td>\n",
       "</tr>\n",
       "<tr>\n",
       "  <th>x7</th>    <td>   -0.0164</td> <td>    0.007</td> <td>   -2.489</td> <td> 0.013</td> <td>   -0.029</td> <td>   -0.003</td>\n",
       "</tr>\n",
       "<tr>\n",
       "  <th>x8</th>    <td>    0.0062</td> <td>    0.007</td> <td>    0.939</td> <td> 0.348</td> <td>   -0.007</td> <td>    0.019</td>\n",
       "</tr>\n",
       "<tr>\n",
       "  <th>x9</th>    <td>   -0.0069</td> <td>    0.007</td> <td>   -1.056</td> <td> 0.291</td> <td>   -0.020</td> <td>    0.006</td>\n",
       "</tr>\n",
       "<tr>\n",
       "  <th>x10</th>   <td>    0.0148</td> <td>    0.007</td> <td>    2.256</td> <td> 0.024</td> <td>    0.002</td> <td>    0.028</td>\n",
       "</tr>\n",
       "<tr>\n",
       "  <th>x11</th>   <td>    0.0029</td> <td>    0.007</td> <td>    0.436</td> <td> 0.663</td> <td>   -0.010</td> <td>    0.016</td>\n",
       "</tr>\n",
       "<tr>\n",
       "  <th>x12</th>   <td>    0.0129</td> <td>    0.007</td> <td>    1.969</td> <td> 0.049</td> <td> 5.75e-05</td> <td>    0.026</td>\n",
       "</tr>\n",
       "<tr>\n",
       "  <th>x13</th>   <td>   -0.0018</td> <td>    0.007</td> <td>   -0.272</td> <td> 0.786</td> <td>   -0.015</td> <td>    0.011</td>\n",
       "</tr>\n",
       "<tr>\n",
       "  <th>x14</th>   <td>   -0.0033</td> <td>    0.007</td> <td>   -0.502</td> <td> 0.616</td> <td>   -0.016</td> <td>    0.010</td>\n",
       "</tr>\n",
       "<tr>\n",
       "  <th>x15</th>   <td>   -0.0180</td> <td>    0.007</td> <td>   -2.731</td> <td> 0.006</td> <td>   -0.031</td> <td>   -0.005</td>\n",
       "</tr>\n",
       "<tr>\n",
       "  <th>x16</th>   <td>   -0.0029</td> <td>    0.007</td> <td>   -0.437</td> <td> 0.662</td> <td>   -0.016</td> <td>    0.010</td>\n",
       "</tr>\n",
       "<tr>\n",
       "  <th>x17</th>   <td>    0.0157</td> <td>    0.007</td> <td>    2.382</td> <td> 0.017</td> <td>    0.003</td> <td>    0.029</td>\n",
       "</tr>\n",
       "<tr>\n",
       "  <th>x18</th>   <td>   -0.0016</td> <td>    0.007</td> <td>   -0.239</td> <td> 0.811</td> <td>   -0.014</td> <td>    0.011</td>\n",
       "</tr>\n",
       "<tr>\n",
       "  <th>x19</th>   <td>   -0.0006</td> <td>    0.007</td> <td>   -0.092</td> <td> 0.927</td> <td>   -0.013</td> <td>    0.012</td>\n",
       "</tr>\n",
       "<tr>\n",
       "  <th>x20</th>   <td>   -0.0062</td> <td>    0.007</td> <td>   -0.949</td> <td> 0.343</td> <td>   -0.019</td> <td>    0.007</td>\n",
       "</tr>\n",
       "<tr>\n",
       "  <th>x21</th>   <td>   -0.0471</td> <td>    0.007</td> <td>   -7.163</td> <td> 0.000</td> <td>   -0.060</td> <td>   -0.034</td>\n",
       "</tr>\n",
       "<tr>\n",
       "  <th>x22</th>   <td>   -0.0900</td> <td>    0.007</td> <td>  -13.716</td> <td> 0.000</td> <td>   -0.103</td> <td>   -0.077</td>\n",
       "</tr>\n",
       "<tr>\n",
       "  <th>x23</th>   <td>   -0.2163</td> <td>    0.007</td> <td>  -33.219</td> <td> 0.000</td> <td>   -0.229</td> <td>   -0.204</td>\n",
       "</tr>\n",
       "<tr>\n",
       "  <th>x24</th>   <td>    1.3010</td> <td>    0.004</td> <td>  329.389</td> <td> 0.000</td> <td>    1.293</td> <td>    1.309</td>\n",
       "</tr>\n",
       "</table>\n",
       "<table class=\"simpletable\">\n",
       "<tr>\n",
       "  <th>Omnibus:</th>       <td>11270.669</td> <th>  Durbin-Watson:     </th>  <td>   2.033</td> \n",
       "</tr>\n",
       "<tr>\n",
       "  <th>Prob(Omnibus):</th>  <td> 0.000</td>   <th>  Jarque-Bera (JB):  </th> <td>181803.608</td>\n",
       "</tr>\n",
       "<tr>\n",
       "  <th>Skew:</th>           <td>-0.388</td>   <th>  Prob(JB):          </th>  <td>    0.00</td> \n",
       "</tr>\n",
       "<tr>\n",
       "  <th>Kurtosis:</th>       <td>11.282</td>   <th>  Cond. No.          </th>  <td>    197.</td> \n",
       "</tr>\n",
       "</table><br/><br/>Notes:<br/>[1] Standard Errors assume that the covariance matrix of the errors is correctly specified."
      ],
      "text/plain": [
       "<class 'statsmodels.iolib.summary.Summary'>\n",
       "\"\"\"\n",
       "                            OLS Regression Results                            \n",
       "==============================================================================\n",
       "Dep. Variable:                      y   R-squared:                       0.992\n",
       "Model:                            OLS   Adj. R-squared:                  0.992\n",
       "Method:                 Least Squares   F-statistic:                 3.376e+05\n",
       "Date:                Thu, 02 Mar 2023   Prob (F-statistic):               0.00\n",
       "Time:                        21:16:16   Log-Likelihood:                -70605.\n",
       "No. Observations:               63058   AIC:                         1.413e+05\n",
       "Df Residuals:                   63033   BIC:                         1.415e+05\n",
       "Df Model:                          24                                         \n",
       "Covariance Type:            nonrobust                                         \n",
       "==============================================================================\n",
       "                 coef    std err          t      P>|t|      [0.025      0.975]\n",
       "------------------------------------------------------------------------------\n",
       "const          0.0317      0.005      6.986      0.000       0.023       0.041\n",
       "x1            -0.1288      0.004    -32.606      0.000      -0.137      -0.121\n",
       "x2             0.0669      0.007     10.283      0.000       0.054       0.080\n",
       "x3             0.0571      0.007      8.707      0.000       0.044       0.070\n",
       "x4             0.0381      0.007      5.793      0.000       0.025       0.051\n",
       "x5             0.0081      0.007      1.239      0.216      -0.005       0.021\n",
       "x6             0.0125      0.007      1.905      0.057      -0.000       0.025\n",
       "x7            -0.0164      0.007     -2.489      0.013      -0.029      -0.003\n",
       "x8             0.0062      0.007      0.939      0.348      -0.007       0.019\n",
       "x9            -0.0069      0.007     -1.056      0.291      -0.020       0.006\n",
       "x10            0.0148      0.007      2.256      0.024       0.002       0.028\n",
       "x11            0.0029      0.007      0.436      0.663      -0.010       0.016\n",
       "x12            0.0129      0.007      1.969      0.049    5.75e-05       0.026\n",
       "x13           -0.0018      0.007     -0.272      0.786      -0.015       0.011\n",
       "x14           -0.0033      0.007     -0.502      0.616      -0.016       0.010\n",
       "x15           -0.0180      0.007     -2.731      0.006      -0.031      -0.005\n",
       "x16           -0.0029      0.007     -0.437      0.662      -0.016       0.010\n",
       "x17            0.0157      0.007      2.382      0.017       0.003       0.029\n",
       "x18           -0.0016      0.007     -0.239      0.811      -0.014       0.011\n",
       "x19           -0.0006      0.007     -0.092      0.927      -0.013       0.012\n",
       "x20           -0.0062      0.007     -0.949      0.343      -0.019       0.007\n",
       "x21           -0.0471      0.007     -7.163      0.000      -0.060      -0.034\n",
       "x22           -0.0900      0.007    -13.716      0.000      -0.103      -0.077\n",
       "x23           -0.2163      0.007    -33.219      0.000      -0.229      -0.204\n",
       "x24            1.3010      0.004    329.389      0.000       1.293       1.309\n",
       "==============================================================================\n",
       "Omnibus:                    11270.669   Durbin-Watson:                   2.033\n",
       "Prob(Omnibus):                  0.000   Jarque-Bera (JB):           181803.608\n",
       "Skew:                          -0.388   Prob(JB):                         0.00\n",
       "Kurtosis:                      11.282   Cond. No.                         197.\n",
       "==============================================================================\n",
       "\n",
       "Notes:\n",
       "[1] Standard Errors assume that the covariance matrix of the errors is correctly specified.\n",
       "\"\"\""
      ]
     },
     "execution_count": 12,
     "metadata": {},
     "output_type": "execute_result"
    }
   ],
   "source": [
    "import statsmodels.api as sm \n",
    "\n",
    "# train ordinary least square model\n",
    "X_train = sm.add_constant(X_train)\n",
    "model = sm.OLS(y_train, X_train)\n",
    "result = model.fit()\n",
    "\n",
    "result.summary()"
   ]
  },
  {
   "attachments": {},
   "cell_type": "markdown",
   "metadata": {},
   "source": [
    "A `Durbin-Watson` value greater than 2 suggests that the series has no autocorrelation\n",
    "\n",
    "checking for normality can be done with the following tests:\n",
    "1. Jarque-Bera test\n",
    "2. Shapiro-Wilk test\n",
    "3. Koglomorov-Smirnov test"
   ]
  },
  {
   "cell_type": "code",
   "execution_count": 13,
   "metadata": {},
   "outputs": [
    {
     "name": "stdout",
     "output_type": "stream",
     "text": [
      "p value of Jarque-Bera test is:  0.0\n",
      "p value of Shapiro-Wilk test is:  0.0\n",
      "p value of Kolmogorov-Smirnov test is:  0.0\n"
     ]
    },
    {
     "name": "stderr",
     "output_type": "stream",
     "text": [
      "/usr/lib/python3/dist-packages/scipy/stats/_morestats.py:1761: UserWarning: p-value may not be accurate for N > 5000.\n",
      "  warnings.warn(\"p-value may not be accurate for N > 5000.\")\n"
     ]
    }
   ],
   "source": [
    "from scipy import stats \n",
    "\n",
    "# get values of the residuals\n",
    "residual = result.resid \n",
    "\n",
    "# run tests and get the p values\n",
    "print('p value of Jarque-Bera test is: ', stats.jarque_bera(residual)[1])\n",
    "print('p value of Shapiro-Wilk test is: ', stats.shapiro(residual)[1])\n",
    "print('p value of Kolmogorov-Smirnov test is: ', stats.kstest(residual, 'norm')[1])"
   ]
  },
  {
   "attachments": {},
   "cell_type": "markdown",
   "metadata": {},
   "source": [
    "assuming a significance level of 0.05, all of three suggest that the series is not normally distributed.\n",
    "\n",
    "for heterisdasticity, we will use the following tests:\n",
    "1. Bruesch-Pagon test\n",
    "2. White test"
   ]
  },
  {
   "cell_type": "code",
   "execution_count": 14,
   "metadata": {},
   "outputs": [
    {
     "name": "stdout",
     "output_type": "stream",
     "text": [
      "p value of Breusch–Pagan test is:  2.996182722664035e-246\n",
      "p value of white test is:  0.0\n"
     ]
    }
   ],
   "source": [
    "import statsmodels.stats.api as sms \n",
    "\n",
    "print('p value of Breusch–Pagan test is: ', \n",
    "      sms.het_breuschpagan(result.resid, result.model.exog)[1])\n",
    "print('p value of white test is: ', \n",
    "      sms.het_white(result.resid, result.model.exog)[1])"
   ]
  },
  {
   "attachments": {},
   "cell_type": "markdown",
   "metadata": {},
   "source": [
    "assuming a significance level of 0.05, the two suggest that the series is heteroscedastic\n",
    "\n",
    "the series is neither homoscedastic nor normally distributed. lucky for us, unlike OLS, generalized least squares accounts for these residual errors."
   ]
  },
  {
   "cell_type": "code",
   "execution_count": 15,
   "metadata": {},
   "outputs": [
    {
     "data": {
      "text/html": [
       "<table class=\"simpletable\">\n",
       "<caption>GLS Regression Results</caption>\n",
       "<tr>\n",
       "  <th>Dep. Variable:</th>            <td>y</td>        <th>  R-squared:         </th> <td>   0.992</td> \n",
       "</tr>\n",
       "<tr>\n",
       "  <th>Model:</th>                   <td>GLS</td>       <th>  Adj. R-squared:    </th> <td>   0.992</td> \n",
       "</tr>\n",
       "<tr>\n",
       "  <th>Method:</th>             <td>Least Squares</td>  <th>  F-statistic:       </th> <td>3.376e+05</td>\n",
       "</tr>\n",
       "<tr>\n",
       "  <th>Date:</th>             <td>Thu, 02 Mar 2023</td> <th>  Prob (F-statistic):</th>  <td>  0.00</td>  \n",
       "</tr>\n",
       "<tr>\n",
       "  <th>Time:</th>                 <td>21:16:38</td>     <th>  Log-Likelihood:    </th> <td> -70605.</td> \n",
       "</tr>\n",
       "<tr>\n",
       "  <th>No. Observations:</th>      <td> 63058</td>      <th>  AIC:               </th> <td>1.413e+05</td>\n",
       "</tr>\n",
       "<tr>\n",
       "  <th>Df Residuals:</th>          <td> 63033</td>      <th>  BIC:               </th> <td>1.415e+05</td>\n",
       "</tr>\n",
       "<tr>\n",
       "  <th>Df Model:</th>              <td>    24</td>      <th>                     </th>     <td> </td>    \n",
       "</tr>\n",
       "<tr>\n",
       "  <th>Covariance Type:</th>      <td>nonrobust</td>    <th>                     </th>     <td> </td>    \n",
       "</tr>\n",
       "</table>\n",
       "<table class=\"simpletable\">\n",
       "<tr>\n",
       "    <td></td>       <th>coef</th>     <th>std err</th>      <th>t</th>      <th>P>|t|</th>  <th>[0.025</th>    <th>0.975]</th>  \n",
       "</tr>\n",
       "<tr>\n",
       "  <th>const</th> <td>    0.0317</td> <td>    0.005</td> <td>    6.986</td> <td> 0.000</td> <td>    0.023</td> <td>    0.041</td>\n",
       "</tr>\n",
       "<tr>\n",
       "  <th>x1</th>    <td>   -0.1288</td> <td>    0.004</td> <td>  -32.606</td> <td> 0.000</td> <td>   -0.137</td> <td>   -0.121</td>\n",
       "</tr>\n",
       "<tr>\n",
       "  <th>x2</th>    <td>    0.0669</td> <td>    0.007</td> <td>   10.283</td> <td> 0.000</td> <td>    0.054</td> <td>    0.080</td>\n",
       "</tr>\n",
       "<tr>\n",
       "  <th>x3</th>    <td>    0.0571</td> <td>    0.007</td> <td>    8.707</td> <td> 0.000</td> <td>    0.044</td> <td>    0.070</td>\n",
       "</tr>\n",
       "<tr>\n",
       "  <th>x4</th>    <td>    0.0381</td> <td>    0.007</td> <td>    5.793</td> <td> 0.000</td> <td>    0.025</td> <td>    0.051</td>\n",
       "</tr>\n",
       "<tr>\n",
       "  <th>x5</th>    <td>    0.0081</td> <td>    0.007</td> <td>    1.239</td> <td> 0.216</td> <td>   -0.005</td> <td>    0.021</td>\n",
       "</tr>\n",
       "<tr>\n",
       "  <th>x6</th>    <td>    0.0125</td> <td>    0.007</td> <td>    1.905</td> <td> 0.057</td> <td>   -0.000</td> <td>    0.025</td>\n",
       "</tr>\n",
       "<tr>\n",
       "  <th>x7</th>    <td>   -0.0164</td> <td>    0.007</td> <td>   -2.489</td> <td> 0.013</td> <td>   -0.029</td> <td>   -0.003</td>\n",
       "</tr>\n",
       "<tr>\n",
       "  <th>x8</th>    <td>    0.0062</td> <td>    0.007</td> <td>    0.939</td> <td> 0.348</td> <td>   -0.007</td> <td>    0.019</td>\n",
       "</tr>\n",
       "<tr>\n",
       "  <th>x9</th>    <td>   -0.0069</td> <td>    0.007</td> <td>   -1.056</td> <td> 0.291</td> <td>   -0.020</td> <td>    0.006</td>\n",
       "</tr>\n",
       "<tr>\n",
       "  <th>x10</th>   <td>    0.0148</td> <td>    0.007</td> <td>    2.256</td> <td> 0.024</td> <td>    0.002</td> <td>    0.028</td>\n",
       "</tr>\n",
       "<tr>\n",
       "  <th>x11</th>   <td>    0.0029</td> <td>    0.007</td> <td>    0.436</td> <td> 0.663</td> <td>   -0.010</td> <td>    0.016</td>\n",
       "</tr>\n",
       "<tr>\n",
       "  <th>x12</th>   <td>    0.0129</td> <td>    0.007</td> <td>    1.969</td> <td> 0.049</td> <td> 5.75e-05</td> <td>    0.026</td>\n",
       "</tr>\n",
       "<tr>\n",
       "  <th>x13</th>   <td>   -0.0018</td> <td>    0.007</td> <td>   -0.272</td> <td> 0.786</td> <td>   -0.015</td> <td>    0.011</td>\n",
       "</tr>\n",
       "<tr>\n",
       "  <th>x14</th>   <td>   -0.0033</td> <td>    0.007</td> <td>   -0.502</td> <td> 0.616</td> <td>   -0.016</td> <td>    0.010</td>\n",
       "</tr>\n",
       "<tr>\n",
       "  <th>x15</th>   <td>   -0.0180</td> <td>    0.007</td> <td>   -2.731</td> <td> 0.006</td> <td>   -0.031</td> <td>   -0.005</td>\n",
       "</tr>\n",
       "<tr>\n",
       "  <th>x16</th>   <td>   -0.0029</td> <td>    0.007</td> <td>   -0.437</td> <td> 0.662</td> <td>   -0.016</td> <td>    0.010</td>\n",
       "</tr>\n",
       "<tr>\n",
       "  <th>x17</th>   <td>    0.0157</td> <td>    0.007</td> <td>    2.382</td> <td> 0.017</td> <td>    0.003</td> <td>    0.029</td>\n",
       "</tr>\n",
       "<tr>\n",
       "  <th>x18</th>   <td>   -0.0016</td> <td>    0.007</td> <td>   -0.239</td> <td> 0.811</td> <td>   -0.014</td> <td>    0.011</td>\n",
       "</tr>\n",
       "<tr>\n",
       "  <th>x19</th>   <td>   -0.0006</td> <td>    0.007</td> <td>   -0.092</td> <td> 0.927</td> <td>   -0.013</td> <td>    0.012</td>\n",
       "</tr>\n",
       "<tr>\n",
       "  <th>x20</th>   <td>   -0.0062</td> <td>    0.007</td> <td>   -0.949</td> <td> 0.343</td> <td>   -0.019</td> <td>    0.007</td>\n",
       "</tr>\n",
       "<tr>\n",
       "  <th>x21</th>   <td>   -0.0471</td> <td>    0.007</td> <td>   -7.163</td> <td> 0.000</td> <td>   -0.060</td> <td>   -0.034</td>\n",
       "</tr>\n",
       "<tr>\n",
       "  <th>x22</th>   <td>   -0.0900</td> <td>    0.007</td> <td>  -13.716</td> <td> 0.000</td> <td>   -0.103</td> <td>   -0.077</td>\n",
       "</tr>\n",
       "<tr>\n",
       "  <th>x23</th>   <td>   -0.2163</td> <td>    0.007</td> <td>  -33.219</td> <td> 0.000</td> <td>   -0.229</td> <td>   -0.204</td>\n",
       "</tr>\n",
       "<tr>\n",
       "  <th>x24</th>   <td>    1.3010</td> <td>    0.004</td> <td>  329.389</td> <td> 0.000</td> <td>    1.293</td> <td>    1.309</td>\n",
       "</tr>\n",
       "</table>\n",
       "<table class=\"simpletable\">\n",
       "<tr>\n",
       "  <th>Omnibus:</th>       <td>11270.669</td> <th>  Durbin-Watson:     </th>  <td>   2.033</td> \n",
       "</tr>\n",
       "<tr>\n",
       "  <th>Prob(Omnibus):</th>  <td> 0.000</td>   <th>  Jarque-Bera (JB):  </th> <td>181803.608</td>\n",
       "</tr>\n",
       "<tr>\n",
       "  <th>Skew:</th>           <td>-0.388</td>   <th>  Prob(JB):          </th>  <td>    0.00</td> \n",
       "</tr>\n",
       "<tr>\n",
       "  <th>Kurtosis:</th>       <td>11.282</td>   <th>  Cond. No.          </th>  <td>    197.</td> \n",
       "</tr>\n",
       "</table><br/><br/>Notes:<br/>[1] Standard Errors assume that the covariance matrix of the errors is correctly specified."
      ],
      "text/plain": [
       "<class 'statsmodels.iolib.summary.Summary'>\n",
       "\"\"\"\n",
       "                            GLS Regression Results                            \n",
       "==============================================================================\n",
       "Dep. Variable:                      y   R-squared:                       0.992\n",
       "Model:                            GLS   Adj. R-squared:                  0.992\n",
       "Method:                 Least Squares   F-statistic:                 3.376e+05\n",
       "Date:                Thu, 02 Mar 2023   Prob (F-statistic):               0.00\n",
       "Time:                        21:16:38   Log-Likelihood:                -70605.\n",
       "No. Observations:               63058   AIC:                         1.413e+05\n",
       "Df Residuals:                   63033   BIC:                         1.415e+05\n",
       "Df Model:                          24                                         \n",
       "Covariance Type:            nonrobust                                         \n",
       "==============================================================================\n",
       "                 coef    std err          t      P>|t|      [0.025      0.975]\n",
       "------------------------------------------------------------------------------\n",
       "const          0.0317      0.005      6.986      0.000       0.023       0.041\n",
       "x1            -0.1288      0.004    -32.606      0.000      -0.137      -0.121\n",
       "x2             0.0669      0.007     10.283      0.000       0.054       0.080\n",
       "x3             0.0571      0.007      8.707      0.000       0.044       0.070\n",
       "x4             0.0381      0.007      5.793      0.000       0.025       0.051\n",
       "x5             0.0081      0.007      1.239      0.216      -0.005       0.021\n",
       "x6             0.0125      0.007      1.905      0.057      -0.000       0.025\n",
       "x7            -0.0164      0.007     -2.489      0.013      -0.029      -0.003\n",
       "x8             0.0062      0.007      0.939      0.348      -0.007       0.019\n",
       "x9            -0.0069      0.007     -1.056      0.291      -0.020       0.006\n",
       "x10            0.0148      0.007      2.256      0.024       0.002       0.028\n",
       "x11            0.0029      0.007      0.436      0.663      -0.010       0.016\n",
       "x12            0.0129      0.007      1.969      0.049    5.75e-05       0.026\n",
       "x13           -0.0018      0.007     -0.272      0.786      -0.015       0.011\n",
       "x14           -0.0033      0.007     -0.502      0.616      -0.016       0.010\n",
       "x15           -0.0180      0.007     -2.731      0.006      -0.031      -0.005\n",
       "x16           -0.0029      0.007     -0.437      0.662      -0.016       0.010\n",
       "x17            0.0157      0.007      2.382      0.017       0.003       0.029\n",
       "x18           -0.0016      0.007     -0.239      0.811      -0.014       0.011\n",
       "x19           -0.0006      0.007     -0.092      0.927      -0.013       0.012\n",
       "x20           -0.0062      0.007     -0.949      0.343      -0.019       0.007\n",
       "x21           -0.0471      0.007     -7.163      0.000      -0.060      -0.034\n",
       "x22           -0.0900      0.007    -13.716      0.000      -0.103      -0.077\n",
       "x23           -0.2163      0.007    -33.219      0.000      -0.229      -0.204\n",
       "x24            1.3010      0.004    329.389      0.000       1.293       1.309\n",
       "==============================================================================\n",
       "Omnibus:                    11270.669   Durbin-Watson:                   2.033\n",
       "Prob(Omnibus):                  0.000   Jarque-Bera (JB):           181803.608\n",
       "Skew:                          -0.388   Prob(JB):                         0.00\n",
       "Kurtosis:                      11.282   Cond. No.                         197.\n",
       "==============================================================================\n",
       "\n",
       "Notes:\n",
       "[1] Standard Errors assume that the covariance matrix of the errors is correctly specified.\n",
       "\"\"\""
      ]
     },
     "execution_count": 15,
     "metadata": {},
     "output_type": "execute_result"
    }
   ],
   "source": [
    "import statsmodels.api as sm \n",
    "\n",
    "# train ordinary least square model\n",
    "X_train = sm.add_constant(X_train)\n",
    "model = sm.GLS(y_train, X_train)\n",
    "result = model.fit()\n",
    "\n",
    "result.summary()"
   ]
  },
  {
   "attachments": {},
   "cell_type": "markdown",
   "metadata": {},
   "source": [
    "get the prediction"
   ]
  },
  {
   "attachments": {},
   "cell_type": "markdown",
   "metadata": {},
   "source": [
    "# Modeling time series with recurrent network\n",
    "\n",
    "RNN or recurrent neural network have a hidden layer that acts as a memory function that takes into account the previous timesteps while calculating what the next value in the sequence (the present timestep should be)\n",
    "\n",
    "recurrent network suffer from issues like vanishing and exploding gradient. to solve for these, LSTM came into being. they add multiple gates, like input and forget gate to avoid the problem of exploding or vanishing gradient.\n",
    "\n",
    "other way of dealing with the problem include gradient clipping and identity initialization\n",
    "\n"
   ]
  },
  {
   "cell_type": "code",
   "execution_count": 16,
   "metadata": {},
   "outputs": [],
   "source": [
    "df = pd.read_csv('jena_climate_2009_2016.csv')\n",
    "\n",
    "time_vals = pd.to_datetime(df.pop('Date Time'), \n",
    "            format='%d.%m.%Y %H:%M:%S')\n",
    "series = df['T (degC)'][5::6]\n",
    "series.index = time_vals[5::6]"
   ]
  },
  {
   "cell_type": "code",
   "execution_count": 20,
   "metadata": {},
   "outputs": [],
   "source": [
    "# train test split\n",
    "train = series[:-int(len(series)/10)]\n",
    "train_idx = train.index\n",
    "test = series[-int(len(series)/10):]\n",
    "test_idx = test.index"
   ]
  },
  {
   "cell_type": "code",
   "execution_count": 21,
   "metadata": {},
   "outputs": [],
   "source": [
    "from sklearn.preprocessing import StandardScaler\n",
    "\n",
    "scaler = StandardScaler()\n",
    "train = pd.Series(scaler.fit_transform(train.values.reshape(-1, 1))[:, 0], index=train_idx)\n",
    "test = pd.Series(scaler.transform(test.values.reshape(-1, 1))[:, 0], index=test_idx)"
   ]
  },
  {
   "attachments": {},
   "cell_type": "markdown",
   "metadata": {},
   "source": [
    "use the log matrix generation function defined earlier to create the test and train datasets"
   ]
  },
  {
   "cell_type": "code",
   "execution_count": 22,
   "metadata": {},
   "outputs": [],
   "source": [
    "window_size = 24 \n",
    "\n",
    "X_train, y_train = split_sequence(train, window_size=window_size)\n",
    "X_test, y_test = split_sequence(test, window_size=window_size)"
   ]
  },
  {
   "attachments": {},
   "cell_type": "markdown",
   "metadata": {},
   "source": [
    "convert all the data into tensors, and subsequently a torch `TorchDataset`and `DataLoader`"
   ]
  },
  {
   "cell_type": "code",
   "execution_count": 23,
   "metadata": {},
   "outputs": [],
   "source": [
    "import torch \n",
    "from torch.utils.data import TensorDataset, DataLoader\n",
    "\n",
    "# convert train and test data to tensors\n",
    "X_train = torch.tensor(X_train, dtype=torch.float)\n",
    "y_train = torch.tensor(y_train, dtype=torch.float)\n",
    "X_test = torch.tensor(X_test, dtype=torch.float)\n",
    "y_test = torch.tensor(y_test, dtype=torch.float)\n",
    "\n",
    "# use torch tensor datasets\n",
    "train_data = TensorDataset(X_train, y_train)\n",
    "test_data = TensorDataset(X_test, y_test)\n",
    "\n",
    "# get data loaders\n",
    "batch_size = 32\n",
    "train_dataloader = DataLoader(train_data, shuffle=True, batch_size=batch_size)\n",
    "test_dataloader = DataLoader(test_data, shuffle=False, batch_size=batch_size)"
   ]
  },
  {
   "attachments": {},
   "cell_type": "markdown",
   "metadata": {},
   "source": [
    "define the module to define the neural network architecture. we make the provisions for \n",
    "1. Vanilla LSTM\n",
    "2. Stacked LSTM \n",
    "3. Bidirectional LSTM\n",
    "4. One fully connected layer after the LSTM"
   ]
  },
  {
   "cell_type": "code",
   "execution_count": 25,
   "metadata": {},
   "outputs": [],
   "source": [
    "from torch import nn\n",
    "\n",
    "\n",
    "class DenseLSTM(nn.Module):\n",
    "    def __init__(self, input_dim, hidden_dim, lstm_layers=1, bidirectional=False, dense=False):\n",
    "        super(DenseLSTM, self).__init__()\n",
    "        self.input_dim = input_dim\n",
    "        self.hidden_dim = hidden_dim\n",
    "        self.layers = lstm_layers\n",
    "        self.bidirectional = bidirectional\n",
    "        self.dense = dense\n",
    "        # define the LSTM layer\n",
    "        self.lstm = nn.LSTM(input_size=self.input_dim, \n",
    "                            hidden_size=self.hidden_dim, \n",
    "                            num_layers=self.layers,\n",
    "                            bidirectional=self.bidirectional)\n",
    "        self.act1 = nn.ReLU()\n",
    "        # change linear layer inputs depending on if lstm is bidrectional\n",
    "        if not bidirectional:\n",
    "            self.linear = nn.Linear(self.hidden_dim, self.hidden_dim)\n",
    "        else:\n",
    "            self.linear = nn.Linear(self.hidden_dim * 2, self.hidden_dim)\n",
    "        self.act2 = nn.ReLU()\n",
    "        # change linear layer inputs depending on if lstm is bidrectional and extra dense layer isn't added\n",
    "        if bidirectional and not dense:\n",
    "            self.final = nn.Linear(self.hidden_dim * 2, 1)\n",
    "        else:\n",
    "            self.final = nn.Linear(self.hidden_dim, 1)\n",
    "\n",
    "\n",
    "    def forward(self, inputs, labels=None):\n",
    "        out = inputs.unsqueeze(1)\n",
    "        out, h = self.lstm(out)\n",
    "        out = self.act1(out)\n",
    "        if self.dense:\n",
    "            out = self.linear(out)\n",
    "            out = self.act2(out)\n",
    "        out = self.final(out)\n",
    "        return out"
   ]
  },
  {
   "attachments": {},
   "cell_type": "markdown",
   "metadata": {},
   "source": [
    "define the trainig function"
   ]
  },
  {
   "cell_type": "code",
   "execution_count": 26,
   "metadata": {},
   "outputs": [],
   "source": [
    "import time \n",
    "\n",
    "def fit(model, optimizer, criterion, epochs, device):\n",
    "    print(\"{:<8} {:<25} {:<25} {:<25}\".format(\n",
    "        'Epoch', 'Train Loss', 'Test Loss', 'Time (seconds)'\n",
    "    ))\n",
    "\n",
    "    for epoch in range(epochs):\n",
    "        model.train()\n",
    "        start = time.time()\n",
    "        epoch_loss = []\n",
    "        # for batch in train data\n",
    "        for step, batch in enumerate(train_dataloader):\n",
    "            # make gradient zero to avoid accumulation \n",
    "            model.zero_grad()\n",
    "            batch = tuple(t.to(device) for t in batch)\n",
    "            inputs, labels = batch \n",
    "            # get predictions \n",
    "            out = model(inputs)"
   ]
  },
  {
   "attachments": {},
   "cell_type": "markdown",
   "metadata": {},
   "source": [
    "define the hidden layer sizes, epochs, loss function and which optimizer we will use. we train the model and plot the prediction"
   ]
  },
  {
   "cell_type": "code",
   "execution_count": 27,
   "metadata": {},
   "outputs": [
    {
     "name": "stdout",
     "output_type": "stream",
     "text": [
      "Epoch    Train Loss                Test Loss                 Time (seconds)           \n"
     ]
    },
    {
     "data": {
      "image/png": "[encoded data removed]",
      "text/plain": [
       "<Figure size 640x480 with 1 Axes>"
      ]
     },
     "metadata": {},
     "output_type": "display_data"
    }
   ],
   "source": [
    "import matplotlib.pyplot as plt\n",
    "\n",
    "device = torch.device(type='cpu')\n",
    "\n",
    "hidden_dim = 32 \n",
    "epochs = 5 \n",
    "\n",
    "# vanilla LSTM \n",
    "model = DenseLSTM(window_size, hidden_dim, lstm_layers=1, bidirectional=False, \n",
    "                  dense=False)\n",
    "model.to(device)\n",
    "\n",
    "# define optimizer and loss function\n",
    "optimizer = torch.optim.Adam(model.parameters())\n",
    "criterion = nn.MSELoss()\n",
    "\n",
    "# initiate training\n",
    "fit(model, optimizer, criterion, epochs, device)\n",
    "\n",
    "# get predictions on validation set\n",
    "model.eval()\n",
    "preds = []\n",
    "for step, batch in enumerate(test_dataloader):\n",
    "    batch = tuple(t.to(device) for t in batch) \n",
    "    inputs, labels = batch \n",
    "    out = model(inputs)\n",
    "    preds.append(out)\n",
    "\n",
    "preds = [x.float().detach().cpu().numpy() for x in preds]\n",
    "preds = np.array([y for x in preds for y in x])\n",
    "\n",
    "# plot data and predictions and applying inverse scaling on the data\n",
    "plt.plot(pd.Series(scaler.inverse_transform(y_train.float().detach().cpu().numpy().reshape(-1, 1))[:, 0], index=train[window_size:].index), label='train values')\n",
    "plt.plot(pd.Series(scaler.inverse_transform(y_test.float().detach().cpu().numpy().reshape(-1, 1))[:, 0], index=test[:-window_size].index), label='test values')\n",
    "plt.plot(pd.Series(scaler.inverse_transform(preds.reshape(-1, 1))[:, 0], index=test[:-window_size].index), label='test predictions')\n",
    "plt.xlabel('Date time')\n",
    "plt.ylabel('Temp (celcius)')\n",
    "plt.title('Vanilla LSTM Forecasts')\n",
    "plt.legend()\n",
    "plt.show()"
   ]
  },
  {
   "cell_type": "code",
   "execution_count": 30,
   "metadata": {},
   "outputs": [
    {
     "name": "stdout",
     "output_type": "stream",
     "text": [
      "Epoch    Train Loss                Test Loss                 Time (seconds)           \n"
     ]
    },
    {
     "data": {
      "image/png": "[encoded data removed]",
      "text/plain": [
       "<Figure size 640x480 with 1 Axes>"
      ]
     },
     "metadata": {},
     "output_type": "display_data"
    }
   ],
   "source": [
    "# Stacked bidirectional LSTM\n",
    "model = DenseLSTM(window_size, hidden_dim, lstm_layers=2, bidirectional=True, dense=False)\n",
    "model.to(device)\n",
    "\n",
    "# define optimizer and loss function\n",
    "optimizer = torch.optim.Adam(model.parameters())\n",
    "criterion = nn.MSELoss()\n",
    "\n",
    "# initate training\n",
    "fit(model, optimizer, criterion, epochs, device)\n",
    "\n",
    "# get predictions on validation set\n",
    "model.eval()\n",
    "preds = []\n",
    "for step, batch in enumerate(test_dataloader):\n",
    "    batch = tuple(t.to(device) for t in batch)\n",
    "    inputs, labels = batch\n",
    "    out = model(inputs)\n",
    "    preds.append(out)\n",
    "\n",
    "preds = [x.float().detach().cpu().numpy() for x in preds]\n",
    "preds = np.array([y for x in preds for y in x])\n",
    "\n",
    "# plot data and predictions and applying inverse scaling on the data\n",
    "plt.plot(pd.Series(scaler.inverse_transform(y_train.float().detach().cpu().numpy().reshape(-1, 1))[:, 0], index=train[window_size:].index), label='train values')\n",
    "plt.plot(pd.Series(scaler.inverse_transform(y_test.float().detach().cpu().numpy().reshape(-1, 1))[:, 0], index=test[:-window_size].index), label='test values')\n",
    "plt.plot(pd.Series(scaler.inverse_transform(preds.reshape(-1, 1))[:, 0], index=test[:-window_size].index), label='test predictions')\n",
    "plt.xlabel('Date time')\n",
    "plt.ylabel('Temp (Celcius)')\n",
    "plt.title('Stacked Bi-LSTM Forecasts')\n",
    "plt.legend()\n",
    "plt.show()"
   ]
  },
  {
   "cell_type": "code",
   "execution_count": 33,
   "metadata": {},
   "outputs": [
    {
     "name": "stdout",
     "output_type": "stream",
     "text": [
      "Epoch    Train Loss                Test Loss                 Time (seconds)           \n"
     ]
    },
    {
     "data": {
      "image/png": "[encoded data removed]",
      "text/plain": [
       "<Figure size 640x480 with 1 Axes>"
      ]
     },
     "metadata": {},
     "output_type": "display_data"
    }
   ],
   "source": [
    "# stacked bidirectional LSTM plus a linear layer\n",
    "model = DenseLSTM(window_size, hidden_dim, lstm_layers=2, \n",
    "                bidirectional=True, dense=True)\n",
    "model.to(device) \n",
    "\n",
    "# define optimizer and loss function\n",
    "optimizer = torch.optim.Adam(model.parameters())\n",
    "criterion = nn.MSELoss()\n",
    "\n",
    "# initiate training\n",
    "fit(model, optimizer, criterion, epochs, device)\n",
    "\n",
    "# get predictions on validation set\n",
    "model.eval()\n",
    "preds = []\n",
    "for step, batch in enumerate(test_dataloader):\n",
    "    batch = tuple(t.to(device) for t in batch)\n",
    "    inputs, labels = batch \n",
    "    out = model(inputs) \n",
    "    preds.append(out)\n",
    "\n",
    "preds = [x.float().detach().cpu().numpy() for x in preds]\n",
    "preds = np.array([y for x in preds for y in x])\n",
    "\n",
    "# plot data and predictions and applying inverse scaling on the data\n",
    "plt.plot(pd.Series(scaler.inverse_transform(y_train.float().detach().cpu().numpy().reshape(-1, 1))[:, 0], index=train[window_size:].index), label='train values')\n",
    "plt.plot(pd.Series(scaler.inverse_transform(y_test.float().detach().cpu().numpy().reshape(-1, 1))[:, 0], index=test[:-window_size].index), label='test values')\n",
    "plt.plot(pd.Series(scaler.inverse_transform(preds.reshape(-1, 1))[:, 0], index=test[:-window_size].index), label='test predictions')\n",
    "plt.xlabel('Date time')\n",
    "plt.ylabel('Temp (Celcius)')\n",
    "plt.title('Stacked bi-LSTM + linear layer Forecasts')\n",
    "plt.legend()\n",
    "plt.show()"
   ]
  }
 ],
 "metadata": {
  "kernelspec": {
   "display_name": "Python 3",
   "language": "python",
   "name": "python3"
  },
  "language_info": {
   "codemirror_mode": {
    "name": "ipython",
    "version": 3
   },
   "file_extension": ".py",
   "mimetype": "text/x-python",
   "name": "python",
   "nbconvert_exporter": "python",
   "pygments_lexer": "ipython3",
   "version": "3.10.6"
  },
  "orig_nbformat": 4,
  "vscode": {
   "interpreter": {
    "hash": "916dbcbb3f70747c44a77c7bcd40155683ae19c65e1c03b4aa3499c5328201f1"
   }
  }
 },
 "nbformat": 4,
 "nbformat_minor": 2
}
